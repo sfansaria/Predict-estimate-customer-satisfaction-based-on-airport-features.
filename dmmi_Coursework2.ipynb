{
  "nbformat": 4,
  "nbformat_minor": 0,
  "metadata": {
    "colab": {
      "provenance": [],
      "authorship_tag": "ABX9TyN7FBlT/QqqbJmgAvxEPl5G",
      "include_colab_link": true
    },
    "kernelspec": {
      "name": "python3",
      "display_name": "Python 3"
    },
    "language_info": {
      "name": "python"
    }
  },
  "cells": [
    {
      "cell_type": "markdown",
      "metadata": {
        "id": "view-in-github",
        "colab_type": "text"
      },
      "source": [
        "<a href=\"https://colab.research.google.com/github/sfansaria/Predict-estimate-customer-satisfaction-based-on-airport-features./blob/main/dmmi_Coursework2.ipynb\" target=\"_parent\"><img src=\"https://colab.research.google.com/assets/colab-badge.svg\" alt=\"Open In Colab\"/></a>"
      ]
    },
    {
      "cell_type": "code",
      "execution_count": 1,
      "metadata": {
        "id": "LK6Vo7MbRX_5"
      },
      "outputs": [],
      "source": [
        "#Assignment\n",
        "# Name: Saba Firdaus Ansaria\n",
        "# Registration No:  210110201\n",
        "\n",
        "# Regression (used in orange pipeline)\n",
        "#importing libraries\n",
        "\n",
        "import numpy as np\n",
        "from sklearn.linear_model import LinearRegression\n",
        "from sklearn.linear_model import Ridge\n",
        "from sklearn.linear_model import Lasso\n",
        "from sklearn.model_selection import learning_curve\n",
        "import pandas as pd\n",
        "import matplotlib.pyplot as plt\n",
        "from sklearn.ensemble import RandomForestRegressor\n",
        "from sklearn.ensemble import GradientBoostingRegressor, AdaBoostRegressor\n",
        "from sklearn.neural_network import MLPRegressor\n",
        "from sklearn.model_selection import train_test_split\n",
        "import numpy as np\n",
        "\n",
        "\n",
        ""
      ]
    },
    {
      "cell_type": "code",
      "source": [
        "fet = 33\n",
        "tar = 33\n",
        "\n",
        "\n",
        "def print_learning_curve(reg_model, data, target, cross_validation, model):\n",
        "    train_sample = [100, 200, 400, 500, 800, 1000, 1200, 1500, 1800, 2000, 2500]  # train scenarios\n",
        "    # sklearn learning curve function to generate teh regression scores\n",
        "    train_sample, train_scores, val_scores = learning_curve(\n",
        "        estimator=reg_model,\n",
        "        X=data,\n",
        "        y=target, train_sizes=train_sample, cv=cross_validation, scoring='neg_mean_squared_error')\n",
        "    # rpinting train and vlidation score\n",
        "    print('Train score:{}'.format(train_scores))\n",
        "    print('\\nValidation scores:{}'.format(val_scores))\n",
        "\n",
        "    # calculating the mean score for training and validation loss\n",
        "    mean_train_scores = -train_scores.mean(axis=1)\n",
        "    mean_val_scores = -val_scores.mean(axis=1)\n",
        "    print('Mean training scores{}'.format(pd.Series(mean_train_scores, index=train_sample)))\n",
        "    print('\\n', '-' * 20)  # separator\n",
        "    print('\\nMean validation scores {}'.format(pd.Series(mean_val_scores, index=train_sample)))\n"
      ],
      "metadata": {
        "id": "Wi94ZLxyU6ah"
      },
      "execution_count": null,
      "outputs": []
    },
    {
      "cell_type": "code",
      "source": [
        " # plot printing\n",
        "\n",
        "    plt.style.use('seaborn')\n",
        "    # using generalised cations for multiple model training\n",
        "    label = model + ' Training error'\n",
        "    plt.plot(train_sample, mean_train_scores, label=label)\n",
        "    label = model + ' Validation error'\n",
        "    plt.plot(train_sample, mean_val_scores, label=label)\n",
        "    plt.ylabel('MSE', fontsize=10)\n",
        "    plt.xlabel('Training set size', fontsize=10)\n",
        "    title = \"Learning Curve for \" + model + \" model.\"\n",
        "    plt.title(title, fontsize=12)\n",
        "    plt.legend()\n",
        "    plt.show()"
      ],
      "metadata": {
        "id": "ngZHB6buU8XV"
      },
      "execution_count": null,
      "outputs": []
    },
    {
      "cell_type": "code",
      "source": [
        "\n",
        "# parsing the data from Orange pipeline\n",
        "data = in_data[:, :fet]\n",
        "# parsing the target\n",
        "target = in_data[:, tar]\n",
        "\n",
        "data = np.array(data)\n",
        "target = np.array(target).ravel()\n",
        "\n",
        "print(data.shape)\n",
        "print(target.shape)\n",
        "\n",
        "\n",
        "\n",
        "\n",
        "# uncomment the portion to run regression models\n",
        "\n",
        "\n",
        "# reg_model = LinearRegression()\n",
        "# print_learning_curve(reg_model,data,target,10,\"Linear Regression\")\n",
        "# reg_model = Ridge()\n",
        "# print_learning_curve(reg_model,data,target,10,\"Linear Regression Ridge\")\n",
        "# reg_model = Lasso()\n",
        "# print_learning_curve(reg_model,data,target,10,\"Linear Regression Lasso\")\n",
        "\n",
        "# uncomment the portion to run Gradient boost regression\n",
        "reg_model = GradientBoostingRegressor()\n",
        "print_learning_curve(reg_model,data,target,5,\"Gradient Boosting Regressor\")\n",
        "\n",
        "# uncomment the portion to run Adaboost regression\n",
        "# reg_model= AdaBoostRegressor()\n",
        "# print_learning_curve(reg_model,data,target,5,\"Ada Boost Regressor\")\n",
        "\n",
        "# reg_model = RandomForestRegressor()\n",
        "# print_learning_curve(reg_model,data,target,10,\"Random Forest Regression\")\n",
        "\n",
        "# reg_model = MLPRegressor(hidden_layer_sizes=(100,512,100), solver='adam', max_iter=500)\n",
        "# print_learning_curve(reg_model,data,target,5,\"MLP Regression\")\n",
        "\n",
        "# reg_model = DecisionTreeClassifier()\n",
        "# print_learning_curve(reg_model,data,target,5,\"DecisionTreeClassifier Regression\")\n",
        "\n",
        "\n",
        "\n",
        "\n",
        "\n",
        "\n",
        "\n",
        "\n",
        "\n",
        "\n",
        "\n"
      ],
      "metadata": {
        "id": "tiJNp2RhVbzZ"
      },
      "execution_count": null,
      "outputs": []
    },
    {
      "cell_type": "code",
      "source": [
        "# Name: Saba Firdaus Ansaria\n",
        "# Reg No: 210110201\n",
        "# Name: Saba Firdaus Ansaria\n",
        "# Registration No:  210110201\n",
        "\n",
        "# Classification\n",
        "#importing libraries\n",
        "\n",
        "import numpy as np\n",
        "import matplotlib.pyplot as plt\n",
        "import sklearn\n",
        "from sklearn.neural_network import MLPClassifier\n",
        "from sklearn.model_selection import train_test_split\n",
        "from sklearn.metrics import mean_squared_error\n",
        "from math import sqrt\n",
        "from sklearn.metrics import classification_report,confusion_matrix\n",
        "\n",
        "fet = 33\n",
        "tar = 33\n",
        "# parsing the data from Orange pipeline\n",
        "data = in_data[:, :fet]\n",
        "# parsing the target\n",
        "target = in_data[:, tar]\n",
        "\n",
        "#converting to numpy array from table object\n",
        "data = np.array(data)\n",
        "target = np.array(target).ravel()\n",
        "\n",
        "print(\"data shape: \",data.shape)\n",
        "print(\"target shape \",target.shape)\n",
        "\n",
        "#make train/test split\n",
        "x_train, x_test, y_train, y_test = train_test_split(data, target, test_size=0.20, random_state=40)\n",
        "\n",
        "print(\"train/test split: \",x_train.shape, y_train.shape)\n",
        "\n",
        "#declare NN classifier\n",
        "nn = MLPClassifier(hidden_layer_sizes=(100,512,100), activation='relu', solver='adam', max_iter=500)\n",
        "# Train classifier\n",
        "nn.fit(x_train,y_train)\n",
        "\n",
        "# get prediction from the trained model\n",
        "predict_train = nn.predict(x_train)\n",
        "predict_test = nn.predict(x_test)\n",
        "\n",
        "#print confusion matrix and evaluation scores\n",
        "#training score\n",
        "print(confusion_matrix(y_train,predict_train))\n",
        "print(classification_report(y_train,predict_train))\n",
        "\n",
        "#testing score\n",
        "print(confusion_matrix(y_test,predict_test))\n",
        "print(classification_report(y_test,predict_test))\n",
        "\n",
        "\n",
        "\n",
        "\n",
        "\n"
      ],
      "metadata": {
        "id": "FhvJNKlcRkhZ"
      },
      "execution_count": null,
      "outputs": []
    }
  ]
}